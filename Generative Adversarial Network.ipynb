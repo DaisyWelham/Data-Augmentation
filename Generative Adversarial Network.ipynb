{
 "cells": [
  {
   "cell_type": "markdown",
   "id": "25722b33-90b5-46cb-86ac-39fef537f8d0",
   "metadata": {},
   "source": [
    "## Description"
   ]
  },
  {
   "cell_type": "markdown",
   "id": "3e3ec1f0-a3db-4027-b19b-001a061503e1",
   "metadata": {},
   "source": [
    "Generative adversarial networks (GANs) are capable of learning patterns in data. The generator must learn to generate realistic-looking data, and the discriminator must learn to tell real data from generated data. The generator and the discriminator wind up in an arms race, forcing each other to improve. The generator is usually the point in this, since we want to augment real data with generated data. But the discriminator is potentially also useful, since it works as a classifier which has applications in some contexts."
   ]
  },
  {
   "cell_type": "markdown",
   "id": "b5cb084c-8825-402e-9fcf-980422899658",
   "metadata": {},
   "source": [
    "## Notes"
   ]
  },
  {
   "cell_type": "markdown",
   "id": "848c8a05-83d3-49eb-8ab9-1f6b9dc1f8fa",
   "metadata": {},
   "source": [
    "Any notes which are not suitable for a to-do list go here."
   ]
  },
  {
   "cell_type": "markdown",
   "id": "cd23d62f-93a7-4923-af60-0b941e9e2f14",
   "metadata": {},
   "source": [
    "## To-Do"
   ]
  },
  {
   "cell_type": "markdown",
   "id": "5a2cce03-ad6d-407a-82d1-7f5dd4f6973d",
   "metadata": {},
   "source": [
    "none"
   ]
  },
  {
   "cell_type": "markdown",
   "id": "6cd1779a-fa56-4af8-bffd-5d9cb9fc324a",
   "metadata": {},
   "source": [
    "## Imports"
   ]
  },
  {
   "cell_type": "code",
   "execution_count": 1,
   "id": "f107a743-a84c-4713-8efc-dd9d86bdd418",
   "metadata": {},
   "outputs": [
    {
     "data": {
      "text/html": [
       "<div id=\"glowscript\" class=\"glowscript\"></div>"
      ],
      "text/plain": [
       "<IPython.core.display.HTML object>"
      ]
     },
     "metadata": {},
     "output_type": "display_data"
    },
    {
     "data": {
      "application/javascript": [
       "if (typeof Jupyter !== \"undefined\") { window.__context = { glowscript_container: $(\"#glowscript\").removeAttr(\"id\")};}else{ element.textContent = ' ';}"
      ],
      "text/plain": [
       "<IPython.core.display.Javascript object>"
      ]
     },
     "metadata": {},
     "output_type": "display_data"
    }
   ],
   "source": [
    "import vpython as v\n",
    "import random as r\n",
    "import numpy as np\n",
    "from tqdm import tqdm\n",
    "import matplotlib.pyplot as plt\n",
    "from tensorflow.keras.optimizers import Adam\n",
    "from tensorflow.keras.models import Sequential\n",
    "from tensorflow.keras.layers import Input, Dense"
   ]
  },
  {
   "cell_type": "markdown",
   "id": "d114ad86-ea9d-41c2-abb5-37c0bbbaf30f",
   "metadata": {},
   "source": [
    "## Notebook parameters"
   ]
  },
  {
   "cell_type": "code",
   "execution_count": 2,
   "id": "5106158e-e3e1-45ed-a1f7-fdde369c022b",
   "metadata": {},
   "outputs": [],
   "source": [
    "#Display\n",
    "verbosity = False #Whether neural networks should display their predictions and training\n",
    "\n",
    "#Training parameters\n",
    "trainGAN = True\n",
    "saveGAN = False\n",
    "loadGAN = False\n",
    "\n",
    "#Testing parameters\n",
    "\n",
    "#Whether to seed the notebook's randomness\n",
    "seed = True\n",
    "if seed:\n",
    "    r.seed(1)"
   ]
  },
  {
   "cell_type": "markdown",
   "id": "9fd9b63d-30ae-42cb-895e-e576f38a43a1",
   "metadata": {},
   "source": [
    "## Data Handler"
   ]
  },
  {
   "cell_type": "code",
   "execution_count": 3,
   "id": "7fffcb64-6c15-43f1-9441-d08aebafb512",
   "metadata": {},
   "outputs": [],
   "source": [
    "class DataHandler():\n",
    "    def __init__(self):\n",
    "        pass\n",
    "\n",
    "    def generateInputs(self):\n",
    "        return(np.array([r.uniform(-np.pi, np.pi) for c in range(5)]))\n",
    "\n",
    "    def generateOutputs(self, inputs):\n",
    "        return(np.array([np.sin(x) + r.uniform(-0.1, 0.1) for x in inputs]))\n",
    "\n",
    "data = DataHandler()"
   ]
  },
  {
   "cell_type": "markdown",
   "id": "b5fc7722-63a4-4ac5-88b3-72ed6dd3f7f4",
   "metadata": {},
   "source": [
    "## GAN"
   ]
  },
  {
   "cell_type": "code",
   "execution_count": 4,
   "id": "3f328ac8-9eaf-49e7-bb8b-c94991bb17af",
   "metadata": {},
   "outputs": [
    {
     "name": "stdout",
     "output_type": "stream",
     "text": [
      "WARNING:tensorflow:5 out of the last 9 calls to <function TensorFlowTrainer.make_predict_function.<locals>.one_step_on_data_distributed at 0x7f08334e50> triggered tf.function retracing. Tracing is expensive and the excessive number of tracings could be due to (1) creating @tf.function repeatedly in a loop, (2) passing tensors with different shapes, (3) passing Python objects instead of tensors. For (1), please define your @tf.function outside of the loop. For (2), @tf.function has reduce_retracing=True option that can avoid unnecessary retracing. For (3), please refer to https://www.tensorflow.org/guide/function#controlling_retracing and https://www.tensorflow.org/api_docs/python/tf/function for  more details.\n",
      "WARNING:tensorflow:6 out of the last 10 calls to <function TensorFlowTrainer.make_predict_function.<locals>.one_step_on_data_distributed at 0x7f08335480> triggered tf.function retracing. Tracing is expensive and the excessive number of tracings could be due to (1) creating @tf.function repeatedly in a loop, (2) passing tensors with different shapes, (3) passing Python objects instead of tensors. For (1), please define your @tf.function outside of the loop. For (2), @tf.function has reduce_retracing=True option that can avoid unnecessary retracing. For (3), please refer to https://www.tensorflow.org/guide/function#controlling_retracing and https://www.tensorflow.org/api_docs/python/tf/function for  more details.\n"
     ]
    },
    {
     "name": "stderr",
     "output_type": "stream",
     "text": [
      "100%|█████████████████████████████████████████████████████████████████████████████████████████████████████████████████████████████████| 9/9 [06:40<00:00, 44.47s/it]\n"
     ]
    }
   ],
   "source": [
    "gen = []\n",
    "outputSize = 5\n",
    "for i in range(outputSize):\n",
    "    inputSize = i + 5\n",
    "    defaultGen = Sequential([\n",
    "        Input(shape = (inputSize,)),\n",
    "        Dense(16, activation = \"tanh\"),\n",
    "        Dense(16, activation = \"tanh\"),\n",
    "        Dense(16, activation = \"tanh\"),\n",
    "        Dense(1, activation = \"tanh\")\n",
    "    ])\n",
    "    defaultGen.compile(\n",
    "        optimizer = Adam(learning_rate = 0.01),\n",
    "        loss = \"mse\"\n",
    "    )\n",
    "    gen.append(defaultGen)\n",
    "\n",
    "inputSize = 5 + 5\n",
    "defaultDisc = Sequential([\n",
    "    Input(shape = (inputSize,)),\n",
    "    Dense(16, activation = \"tanh\"),\n",
    "    Dense(16, activation = \"tanh\"),\n",
    "    Dense(16, activation = \"tanh\"),\n",
    "    Dense(1, activation = \"sigmoid\")\n",
    "])\n",
    "defaultDisc.compile(\n",
    "    optimizer = Adam(learning_rate = 0.01),\n",
    "    loss = \"mse\"\n",
    ")\n",
    "disc = [defaultDisc]\n",
    "\n",
    "class GAN:\n",
    "    def __init__(self, gen, disc):\n",
    "        self.gen = gen\n",
    "        self.disc = disc\n",
    "\n",
    "    def evaluateWithDisc(self, inputs, outputs):\n",
    "        criticInputs = np.array([np.concatenate([\n",
    "            inputs.flatten(),\n",
    "            outputs.flatten()\n",
    "        ])])\n",
    "        return(self.disc[0].predict(criticInputs, verbose = verbosity))\n",
    "\n",
    "    def predict(self, inputs):\n",
    "        output = []\n",
    "        for i in range(len(self.gen)):\n",
    "            paddedOutput = np.concatenate([\n",
    "                np.array(output),\n",
    "                np.zeros(len(self.gen) - len(output))\n",
    "            ])\n",
    "            combinedInput = np.concatenate([\n",
    "                inputs.flatten(),\n",
    "                paddedOutput[:i]\n",
    "            ])\n",
    "            combinedInput = np.expand_dims(combinedInput, axis = 0)\n",
    "            genChoice = self.gen[i].predict(combinedInput, verbose = verbosity)\n",
    "            output.append(genChoice[0][0])\n",
    "        return(output)\n",
    "\n",
    "    def getTrainingData(self, trainingSize = 64):\n",
    "        genTrainingData = []\n",
    "        genTrainingLabels = []\n",
    "        discTrainingData = []\n",
    "        discTrainingLabels = []\n",
    "        for i in range(trainingSize):\n",
    "            inputs = data.generateInputs()\n",
    "            outputs = data.generateOutputs(inputs)\n",
    "            isReal = r.choice([0, 1])\n",
    "            if isReal:\n",
    "                discPred = self.evaluateWithDisc(inputs, outputs)\n",
    "                discReward = discPred\n",
    "                genTrainingData.append(inputs.flatten())\n",
    "                genTrainingLabels.append(outputs.flatten())\n",
    "                discTrainingData.append(np.concatenate([inputs.flatten(), outputs.flatten()]))\n",
    "                discTrainingLabels.append(discReward)\n",
    "            else:\n",
    "                genChoice = self.predict(inputs)\n",
    "                discPred = self.evaluateWithDisc(inputs, np.array(genChoice))\n",
    "                discReward = 1 - discPred\n",
    "                genTrainingData.append(inputs.flatten())\n",
    "                if discPred < 0.5:\n",
    "                    genTrainingLabels.append(outputs.flatten())\n",
    "                else:\n",
    "                    genTrainingLabels.append(np.array(genChoice))\n",
    "                discTrainingData.append(np.concatenate([inputs.flatten(), np.array(genChoice)]))\n",
    "                discTrainingLabels.append(discReward)\n",
    "        return([\n",
    "            np.array(genTrainingData),\n",
    "            np.array(genTrainingLabels),\n",
    "            np.array(discTrainingData),\n",
    "            np.array(discTrainingLabels)\n",
    "        ])\n",
    "\n",
    "    def train(self, trainingData):\n",
    "        data = trainingData\n",
    "        trainingSize = len(data[0])\n",
    "        discInputs = np.array(data[2])\n",
    "        discLabels = np.array(data[3]).flatten()\n",
    "        mean = discLabels.mean()\n",
    "        std = discLabels.std() + 1e-6\n",
    "        discLabels = (discLabels - mean) / std\n",
    "        self.disc[0].fit(\n",
    "            discInputs, discLabels,\n",
    "            verbose = verbosity,\n",
    "            epochs = int(trainingSize ** 0.5),\n",
    "            batch_size = int(trainingSize ** 0.5)\n",
    "        )\n",
    "        for i in range(len(self.gen)):\n",
    "            genInputs = []\n",
    "            genLabels = []\n",
    "            for systemInput, fullgenOutput in zip(data[0], data[1]):\n",
    "                previousOutputs = np.array(fullgenOutput[:i])\n",
    "                padded = np.concatenate([\n",
    "                    previousOutputs,\n",
    "                    np.zeros(len(self.gen) - len(previousOutputs))\n",
    "                ])\n",
    "                combinedInput = np.concatenate([systemInput, padded[:i]])\n",
    "                genInputs.append(combinedInput)\n",
    "                genLabels.append(fullgenOutput[i])\n",
    "            self.gen[i].fit(\n",
    "                np.array(genInputs),\n",
    "                np.array(genLabels),\n",
    "                verbose = verbosity,\n",
    "                epochs = int(trainingSize ** 0.5),\n",
    "                batch_size = int(trainingSize ** 0.5)\n",
    "            )\n",
    "\n",
    "    def saveWeights(self, prefix = \"GAN\"):\n",
    "        for i, model in enumerate(self.gen):\n",
    "            model.save_weights(f\"{prefix}_gen_{i}.weights.h5\")\n",
    "        self.disc[0].save_weights(f\"{prefix}_disc.weights.h5\")\n",
    "        if verbosity:\n",
    "            print(\"GAN saved!\")\n",
    "\n",
    "    def loadWeights(self, prefix = \"GAN\"):\n",
    "        for i, model in enumerate(self.gen):\n",
    "            model.load_weights(f\"{prefix}_gen_{i}.weights.h5\")\n",
    "        self.disc[0].load_weights(f\"{prefix}_disc.weights.h5\")\n",
    "        if verbosity:\n",
    "            print(\"GAN loaded!\")\n",
    "\n",
    "gan = GAN(gen, disc)\n",
    "\n",
    "if trainGAN:\n",
    "    trainingData = gan.getTrainingData()\n",
    "    gan.train(trainingData)\n",
    "    for i in tqdm(range(9)):\n",
    "        trainingData = gan.getTrainingData()\n",
    "        gan.train(trainingData)\n",
    "\n",
    "if saveGAN:\n",
    "    gan.saveWeights()\n",
    "\n",
    "if loadGAN:\n",
    "    gan.loadWeights()"
   ]
  },
  {
   "cell_type": "code",
   "execution_count": 5,
   "id": "4e1233ae-1d32-4bba-aa04-a2c5cd2e5918",
   "metadata": {},
   "outputs": [
    {
     "data": {
      "image/png": "[encoded data removed]",
      "text/plain": [
       "<Figure size 640x480 with 1 Axes>"
      ]
     },
     "metadata": {},
     "output_type": "display_data"
    }
   ],
   "source": [
    "for i in range(10):\n",
    "    inputs = data.generateInputs()\n",
    "    outputs = gan.predict(inputs)\n",
    "    realOutputs = data.generateOutputs(inputs)\n",
    "    plt.scatter(inputs, outputs, color = \"red\")\n",
    "    plt.scatter(inputs, realOutputs, color = \"green\")\n",
    "plt.show()"
   ]
  },
  {
   "cell_type": "code",
   "execution_count": null,
   "id": "0e1557ea-3bb6-4bf8-af54-67010c204282",
   "metadata": {},
   "outputs": [],
   "source": []
  }
 ],
 "metadata": {
  "kernelspec": {
   "display_name": "Python 3 (ipykernel)",
   "language": "python",
   "name": "python3"
  },
  "language_info": {
   "codemirror_mode": {
    "name": "ipython",
    "version": 3
   },
   "file_extension": ".py",
   "mimetype": "text/x-python",
   "name": "python",
   "nbconvert_exporter": "python",
   "pygments_lexer": "ipython3",
   "version": "3.10.16"
  }
 },
 "nbformat": 4,
 "nbformat_minor": 5
}
